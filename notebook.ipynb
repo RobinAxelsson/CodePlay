{
 "metadata": {
  "kernelspec": {
   "display_name": ".NET (F#)",
   "language": "F#",
   "name": ".net-fsharp"
  },
  "language_info": {
   "name": "F#"
  }
 },
 "cells": [
  {
   "cell_type": "code",
   "execution_count": null,
   "source": [
    "let fruits = [ \"banana\"; \"apple\"; \"pear\"; \"melon\" ]"
   ],
   "outputs": [],
   "metadata": {
    "dotnet_interactive": {
     "language": "fsharp"
    }
   }
  },
  {
   "cell_type": "code",
   "execution_count": null,
   "source": [
    "let uppercase (x: string) = x.ToUpper()\n"
   ],
   "outputs": [],
   "metadata": {
    "dotnet_interactive": {
     "language": "fsharp"
    }
   }
  },
  {
   "cell_type": "code",
   "execution_count": null,
   "source": [
    "let pipe x: list<string> =\n",
    "|> List.filter (fun x -> x.ToLower() <> \"banana\")\n",
    "|> List.map (fun x -> x.ToUpper())\n",
    "|> String.concat \" \""
   ],
   "outputs": [
    {
     "data": {
      "text/plain": [
       "APPLE PEAR MELON"
      ]
     },
     "metadata": {},
     "output_type": "display_data"
    }
   ],
   "metadata": {
    "dotnet_interactive": {
     "language": "fsharp"
    }
   }
  }
 ],
 "nbformat": 4,
 "nbformat_minor": 2
}