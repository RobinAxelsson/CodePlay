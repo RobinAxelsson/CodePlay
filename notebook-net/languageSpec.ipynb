{
 "cells": [
  {
   "cell_type": "code",
   "execution_count": null,
   "metadata": {
    "dotnet_interactive": {
     "language": "csharp"
    }
   },
   "outputs": [
    {
     "data": {
      "text/html": [
       "<table><thead><tr><th>extention</th><th>hello</th></tr></thead><tbody><tr><td><div class=\"dni-plaintext\">foobar</div></td><td><div class=\"dni-plaintext\">{ props: hello foo }</div></td></tr></tbody></table>"
      ]
     },
     "metadata": {},
     "output_type": "display_data"
    }
   ],
   "source": [
    "//In line function\n",
    "object Hello() => new {props = \"hello foo\"};\n",
    "//Extension function\n",
    "static string Extend(this string text, string ext) => text + ext;\n",
    "\n",
    "return new {\n",
    "    extention = \"foo\".Extend(\"bar\"),\n",
    "    hello = Hello()\n",
    "};"
   ]
  },
  {
   "cell_type": "code",
   "execution_count": null,
   "metadata": {
    "dotnet_interactive": {
     "language": "csharp"
    }
   },
   "outputs": [
    {
     "data": {
      "text/html": [
       "<table><thead><tr><th>parse</th><th>parseAdd</th><th>loader</th><th>loadedABC</th><th>doubleloader</th></tr></thead><tbody><tr><td><div class=\"dni-plaintext\">System.Func&lt;System.String,System.Int32&gt;</div></td><td><div class=\"dni-plaintext\">System.Func&lt;System.String,System.Int32,System.Int32&gt;</div></td><td><div class=\"dni-plaintext\">System.Func&lt;System.String,System.Func&lt;System.String,System.String&gt;&gt;</div></td><td><div class=\"dni-plaintext\">[A][B][C]</div></td><td><div class=\"dni-plaintext\">System.Func&lt;System.String,System.Func&lt;System.String,System.Func&lt;System.String,System.String&gt;&gt;&gt;</div></td></tr></tbody></table>"
      ]
     },
     "metadata": {},
     "output_type": "display_data"
    }
   ],
   "source": [
    "var parse = (string s) => int.Parse(s);\n",
    "var parseAdd = (string s, int a) => parse(s) + a;\n",
    "var loader = (string s) => (string a) => a + s;\n",
    "var doubleloader = (string a) => (string b) => (string c) => $\"[{a}][{b}][{c}]\";\n",
    "return new {\n",
    "parse = parse.GetType(),\n",
    "parseAdd = parseAdd.GetType(),\n",
    "loader = loader.GetType(),\n",
    "loadedABC = doubleloader(\"A\")(\"B\")(\"C\"),\n",
    "doubleloader = doubleloader.GetType(),\n",
    "};"
   ]
  },
  {
   "cell_type": "code",
   "execution_count": null,
   "metadata": {
    "dotnet_interactive": {
     "language": "csharp"
    }
   },
   "outputs": [
    {
     "data": {
      "text/html": [
       "<table><thead><tr><th>X</th><th>X2</th><th>Y</th><th>Y2</th></tr></thead><tbody><tr><td><div class=\"dni-plaintext\">2</div></td><td><div class=\"dni-plaintext\">5</div></td><td><div class=\"dni-plaintext\">5</div></td><td><div class=\"dni-plaintext\">2</div></td></tr></tbody></table>"
      ]
     },
     "metadata": {},
     "output_type": "display_data"
    }
   ],
   "source": [
    "// Deconstructuring tuples\n",
    "\n",
    "(int X, int Y) Switch(int X, int Y) => (Y,X);\n",
    "\n",
    "var (X, Y) = (2, 5);\n",
    "\n",
    "var (X2, Y2) = Switch(X, Y);\n",
    "\n",
    "return new {\n",
    "    X = X, X2 = X2, Y = Y, Y2 = Y2\n",
    "};"
   ]
  },
  {
   "cell_type": "code",
   "execution_count": null,
   "metadata": {
    "dotnet_interactive": {
     "language": "csharp"
    }
   },
   "outputs": [
    {
     "data": {
      "text/html": [
       "<table><thead><tr><th>Item1</th><th>Item2</th><th>Item3</th><th>Item4</th></tr></thead><tbody><tr><td><div class=\"dni-plaintext\">North</div></td><td><div class=\"dni-plaintext\">East</div></td><td><div class=\"dni-plaintext\">South</div></td><td><div class=\"dni-plaintext\">West</div></td></tr></tbody></table>"
      ]
     },
     "metadata": {},
     "output_type": "display_data"
    }
   ],
   "source": [
    "//Switch Expression\n",
    "enum Foo { bar, baz, qux, fred}\n",
    "enum Orientation { North, East, South, West}\n",
    "\n",
    "static Orientation ToOrientation(Foo foo) => foo switch\n",
    "{\n",
    "    Foo.bar    => Orientation.North,\n",
    "    Foo.baz => Orientation.East,\n",
    "    Foo.qux  => Orientation.South,\n",
    "    Foo.fred  => Orientation.West,\n",
    "    _ => throw new ArgumentOutOfRangeException(nameof(foo), $\"Not expected direction value: {foo}\"),\n",
    "};\n",
    "\n",
    "return (\n",
    "    ToOrientation(Foo.bar), \n",
    "    ToOrientation(Foo.baz),\n",
    "    ToOrientation(Foo.qux),\n",
    "    ToOrientation(Foo.fred)//,\n",
    "    //ToOrientation((Foo)4) //Throws the exception\n",
    "    );"
   ]
  },
  {
   "cell_type": "code",
   "execution_count": null,
   "metadata": {
    "dotnet_interactive": {
     "language": "csharp"
    }
   },
   "outputs": [
    {
     "data": {
      "text/html": [
       "<table><thead><tr><th>now</th><th>utcnow</th><th>toString</th><th>toString2</th><th>min</th><th>max</th><th>NowGreaterThenUtcNow</th></tr></thead><tbody><tr><td><div class=\"dni-plaintext\">2022-02-02 17:28:18Z</div></td><td><div class=\"dni-plaintext\">2022-02-02 16:28:18Z</div></td><td><div class=\"dni-plaintext\">2022-02-02-05:28:18</div></td><td><div class=\"dni-plaintext\">220202-4796</div></td><td><div class=\"dni-plaintext\">0001-01-01 00:00:00Z</div></td><td><div class=\"dni-plaintext\">9999-12-31 23:59:59Z</div></td><td><div class=\"dni-plaintext\">True</div></td></tr></tbody></table>"
      ]
     },
     "metadata": {},
     "output_type": "display_data"
    }
   ],
   "source": [
    "return new {\n",
    "    now = DateTime.Now,\n",
    "    utcnow = DateTime.UtcNow,\n",
    "    toString = DateTime.Now.ToString(\"yyyy-MM-dd-hh:mm:ss\"),\n",
    "    toString2 = DateTime.Now.ToString(\"yyMMdd-4796\"),\n",
    "    min = DateTime.MinValue,\n",
    "    max = DateTime.MaxValue,\n",
    "    NowGreaterThenUtcNow = DateTime.Now > DateTime.UtcNow\n",
    "};"
   ]
  },
  {
   "cell_type": "code",
   "execution_count": null,
   "metadata": {
    "dotnet_interactive": {
     "language": "csharp"
    }
   },
   "outputs": [
    {
     "data": {
      "text/html": [
       "<table><thead><tr><th>ReferenceEquality</th><th>obj1</th><th>obj2</th></tr></thead><tbody><tr><td><div class=\"dni-plaintext\">False</div></td><td><div class=\"dni-plaintext\">{ foo: foo, bar: bar }</div></td><td><div class=\"dni-plaintext\">{ foo: foo, bar: bar }</div></td></tr></tbody></table>"
      ]
     },
     "metadata": {},
     "output_type": "display_data"
    }
   ],
   "source": [
    "var obj = new {foo= \"foo\", bar=\"bar\"}; //Equality anonymous object\n",
    "var obj2 = obj with {};\n",
    "return new {\n",
    "    ReferenceEquality = obj == obj2,\n",
    "    obj1 = obj,\n",
    "    obj2 = obj2\n",
    "};"
   ]
  },
  {
   "cell_type": "code",
   "execution_count": null,
   "metadata": {
    "dotnet_interactive": {
     "language": "csharp"
    }
   },
   "outputs": [
    {
     "data": {
      "text/html": [
       "<table><thead><tr><th>Equality</th><th>obj1</th><th>obj2</th></tr></thead><tbody><tr><td><div class=\"dni-plaintext\">True</div></td><td><div class=\"dni-plaintext\">{ ObjRecord { foo = foo, bar = bar }: foo: foo, bar: bar }</div></td><td><div class=\"dni-plaintext\">{ ObjRecord { foo = foo, bar = bar }: foo: foo, bar: bar }</div></td></tr></tbody></table>"
      ]
     },
     "metadata": {},
     "output_type": "display_data"
    }
   ],
   "source": [
    "record ObjRecord(string foo, string bar); //Records overrides the is Equal\n",
    "\n",
    "var obj = new ObjRecord(\"foo\", \"bar\");\n",
    "var obj2 = obj with {};\n",
    "return new {\n",
    "    Equality = obj == obj2,\n",
    "    obj1 = obj,\n",
    "    obj2 = obj2\n",
    "};"
   ]
  },
  {
   "cell_type": "code",
   "execution_count": null,
   "metadata": {
    "dotnet_interactive": {
     "language": "csharp"
    }
   },
   "outputs": [
    {
     "data": {
      "text/html": [
       "<table><thead><tr><th>xisnull</th><th>xisnotnull</th><th>yistrue</th><th>yisfalse</th><th>yiszero</th></tr></thead><tbody><tr><td><div class=\"dni-plaintext\">True</div></td><td><div class=\"dni-plaintext\">False</div></td><td><div class=\"dni-plaintext\">False</div></td><td><div class=\"dni-plaintext\">True</div></td><td><div class=\"dni-plaintext\">True</div></td></tr></tbody></table>"
      ]
     },
     "metadata": {},
     "output_type": "display_data"
    }
   ],
   "source": [
    "string x = null;\n",
    "bool y = false;\n",
    "\n",
    "return new {\n",
    "    xisnull = x is null,\n",
    "    xisnotnull = x is not null,\n",
    "    yistrue = y is true,\n",
    "    yisfalse = y is false,\n",
    "    yiszero = Convert.ToInt32(y) is 0\n",
    "};"
   ]
  },
  {
   "cell_type": "code",
   "execution_count": null,
   "metadata": {
    "dotnet_interactive": {
     "language": "csharp"
    }
   },
   "outputs": [
    {
     "name": "stdout",
     "output_type": "stream",
     "text": [
      "has scope?\r\n"
     ]
    },
    {
     "data": {
      "text/html": [
       "<table><thead><tr><th>maybe1</th><th>maybe2</th><th>text</th><th>CheckArray</th><th>CheckIList</th><th>CheckList</th><th>CheckIEnumerable</th><th>CheckIEnumerableT</th></tr></thead><tbody><tr><td><div class=\"dni-plaintext\">&lt;null&gt;</div></td><td><div class=\"dni-plaintext\">was null</div></td><td><div class=\"dni-plaintext\">has scope?</div></td><td><div class=\"dni-plaintext\">True</div></td><td><div class=\"dni-plaintext\">True</div></td><td><div class=\"dni-plaintext\">False</div></td><td><div class=\"dni-plaintext\">True</div></td><td><div class=\"dni-plaintext\">True</div></td></tr></tbody></table>"
      ]
     },
     "metadata": {},
     "output_type": "display_data"
    }
   ],
   "source": [
    "string? maybe;\n",
    "\n",
    "string? test = \"has scope?\";\n",
    "\n",
    "if(test is string Text) \n",
    "{\n",
    "    Console.WriteLine(Text);\n",
    "}\n",
    "\n",
    "var list = new string[]{\"a\", \"b\", \"c\"};\n",
    "var list2 = list.Select(x => x);\n",
    "\n",
    "return new {\n",
    "    maybe1=maybe is string text ? text : maybe,\n",
    "    maybe2= maybe ?? \"was null\",\n",
    "    text = Text,\n",
    "    CheckArray = list is string[],\n",
    "    CheckIList = list is IList,\n",
    "    CheckList = list is List<string>,\n",
    "    CheckIEnumerable = list is IEnumerable<string>,\n",
    "    CheckIEnumerableT = list is IEnumerable<object>\n",
    "};"
   ]
  },
  {
   "cell_type": "code",
   "execution_count": null,
   "metadata": {
    "dotnet_interactive": {
     "language": "csharp"
    }
   },
   "outputs": [
    {
     "data": {
      "text/html": [
       "<table><thead><tr><th>Item1</th><th>Item2</th><th>Item3</th><th>Item4</th><th>Item5</th><th>Item6</th></tr></thead><tbody><tr><td><div class=\"dni-plaintext\">solid</div></td><td><div class=\"dni-plaintext\">liquid</div></td><td><div class=\"dni-plaintext\">gas</div></td><td><div class=\"dni-plaintext\">False</div></td><td><div class=\"dni-plaintext\">True</div></td><td><div class=\"dni-plaintext\">False</div></td></tr></tbody></table>"
      ]
     },
     "metadata": {},
     "output_type": "display_data"
    }
   ],
   "source": [
    "\n",
    "//patternmatching with and\n",
    "string WaterState(int tempInFahrenheit) =>\n",
    "    tempInFahrenheit switch\n",
    "    {\n",
    "        (> 32) and (< 212) => \"liquid\",\n",
    "        < 32 => \"solid\",\n",
    "        > 212 => \"gas\",\n",
    "        32 => \"solid/liquid transition\",\n",
    "        212 => \"liquid / gas transition\",\n",
    "    };\n",
    "\n",
    "Func<int, int, Func<int, bool>> betweenPreCS10 = (int min, int max) => (int iNm) => iNm > min && iNm < max;\n",
    "var between = (int min, int max) => (int iNm) => iNm > min && iNm < max;\n",
    "var between0and10 = between(0, 10);\n",
    "\n",
    "return(\n",
    "    WaterState(0),\n",
    "    WaterState(33),\n",
    "    WaterState(213),\n",
    "    between0and10(0),\n",
    "    between0and10(1),\n",
    "    between0and10(10)\n",
    ");"
   ]
  },
  {
   "cell_type": "code",
   "execution_count": null,
   "metadata": {
    "dotnet_interactive": {
     "language": "csharp"
    }
   },
   "outputs": [
    {
     "data": {
      "text/html": [
       "<table><thead><tr><th>age</th><th>name</th></tr></thead><tbody><tr><td><div class=\"dni-plaintext\">12</div></td><td><div class=\"dni-plaintext\">Kalle</div></td></tr></tbody></table>"
      ]
     },
     "metadata": {},
     "output_type": "display_data"
    }
   ],
   "source": [
    "//Deconstruction\n",
    "\n",
    "record Person(string name, int age);\n",
    "var p = new Person(\"Kalle\", 12);\n",
    "var (name, test) = p;\n",
    "return new {\n",
    "    age = age,\n",
    "    name = name\n",
    "};"
   ]
  },
  {
   "cell_type": "code",
   "execution_count": null,
   "metadata": {
    "dotnet_interactive": {
     "language": "csharp"
    }
   },
   "outputs": [
    {
     "data": {
      "text/html": [
       "<table><thead><tr><th>Item1</th><th>Item2</th></tr></thead><tbody><tr><td><div class=\"dni-plaintext\">7</div></td><td><div class=\"dni-plaintext\">11</div></td></tr></tbody></table>"
      ]
     },
     "metadata": {},
     "output_type": "display_data"
    }
   ],
   "source": [
    "//deconstruct\n",
    "record Person(int name, int age);\n",
    "var p = new Person(7, 11);\n",
    "var (years, fullname) = p;\n",
    "return (years, fullname);"
   ]
  },
  {
   "cell_type": "code",
   "execution_count": null,
   "metadata": {
    "dotnet_interactive": {
     "language": "csharp"
    }
   },
   "outputs": [
    {
     "data": {
      "text/html": [
       "<table><thead><tr><th>name</th><th>age</th></tr></thead><tbody><tr><td><div class=\"dni-plaintext\">Bob</div></td><td><div class=\"dni-plaintext\">12</div></td></tr></tbody></table>"
      ]
     },
     "metadata": {},
     "output_type": "display_data"
    }
   ],
   "source": [
    "class Person{\n",
    "    public string Name {get; set;}\n",
    "    public int Age {get; set;}\n",
    "    public void Deconstruct(out string name, out int age){\n",
    "        name = Name;\n",
    "        age = Age;\n",
    "    }\n",
    "}\n",
    "var p = new Person {Name = \"Bob\", Age = 12};\n",
    "var (nameA, ageA) = p;\n",
    "\n",
    "return new {\n",
    "    name = nameA,\n",
    "    age = ageA\n",
    "};"
   ]
  },
  {
   "cell_type": "code",
   "execution_count": null,
   "metadata": {
    "dotnet_interactive": {
     "language": "csharp"
    }
   },
   "outputs": [
    {
     "data": {
      "text/html": [
       "<table><thead><tr><th>_is</th><th>_one</th><th>_obj</th></tr></thead><tbody><tr><td><div class=\"dni-plaintext\">True</div></td><td><div class=\"dni-plaintext\">True</div></td><td><div class=\"dni-plaintext\">True</div></td></tr></tbody></table>"
      ]
     },
     "metadata": {},
     "output_type": "display_data"
    }
   ],
   "source": [
    "var str = \"str\";\n",
    "var one = 1;\n",
    "object obj = 2;\n",
    "\n",
    "return new {\n",
    "    _is = str is object and string,\n",
    "    _one = one is int and <0 or 1,\n",
    "    _obj = obj is not int or not string\n",
    "};"
   ]
  },
  {
   "cell_type": "code",
   "execution_count": null,
   "metadata": {
    "dotnet_interactive": {
     "language": "csharp"
    }
   },
   "outputs": [
    {
     "data": {
      "text/html": [
       "<table><thead><tr><th>intS</th><th>longS</th><th>date</th></tr></thead><tbody><tr><td><div class=\"dni-plaintext\">4</div></td><td><div class=\"dni-plaintext\">8</div></td><td><div class=\"dni-plaintext\">8</div></td></tr></tbody></table>"
      ]
     },
     "metadata": {},
     "output_type": "display_data"
    }
   ],
   "source": [
    "\n",
    "unsafe\n",
    "var obj = new {\n",
    "    intS = sizeof(int),\n",
    "    longS = sizeof(long),\n",
    "    date = sizeof(DateTime)\n",
    "};\n",
    "return obj;"
   ]
  }
 ],
 "metadata": {
  "kernelspec": {
   "display_name": ".NET (C#)",
   "language": "C#",
   "name": ".net-csharp"
  },
  "language_info": {
   "name": "C#"
  }
 },
 "nbformat": 4,
 "nbformat_minor": 2
}
